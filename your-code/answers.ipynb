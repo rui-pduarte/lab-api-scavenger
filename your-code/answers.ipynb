{
 "cells": [
  {
   "cell_type": "code",
   "execution_count": null,
   "metadata": {},
   "outputs": [],
   "source": [
    "### Importing things for the lab.\n",
    "import json\n",
    "import requests\n",
    "import pandas as pd\n",
    "from datetime import datetime"
   ]
  },
  {
   "cell_type": "markdown",
   "metadata": {},
   "source": [
    "### Challenge 1"
   ]
  },
  {
   "cell_type": "code",
   "execution_count": 5,
   "metadata": {},
   "outputs": [],
   "source": [
    "### Importing from an user page hence /users/.\n",
    "response = requests.get('https://api.github.com/users/ta-data-lis/repos')\n",
    "data = pd.DataFrame(response.json())"
   ]
  },
  {
   "cell_type": "code",
   "execution_count": null,
   "metadata": {},
   "outputs": [],
   "source": [
    "### Checking column names\n",
    "data.head(10)\n",
    "### Ok... language column is ommited in the ...\n",
    "column_names = [col for col in data.columns]\n",
    "### There it is...\n",
    "column_names"
   ]
  },
  {
   "cell_type": "code",
   "execution_count": 18,
   "metadata": {},
   "outputs": [],
   "source": [
    "fork_languages = list(data['language'])\n",
    "### Displaying its contents on a list.\n",
    "fork_languages"
   ]
  },
  {
   "cell_type": "markdown",
   "metadata": {},
   "source": [
    "### Challenge 2"
   ]
  },
  {
   "cell_type": "code",
   "execution_count": 19,
   "metadata": {},
   "outputs": [
    {
     "data": {
      "text/html": [
       "<div>\n",
       "<style scoped>\n",
       "    .dataframe tbody tr th:only-of-type {\n",
       "        vertical-align: middle;\n",
       "    }\n",
       "\n",
       "    .dataframe tbody tr th {\n",
       "        vertical-align: top;\n",
       "    }\n",
       "\n",
       "    .dataframe thead th {\n",
       "        text-align: right;\n",
       "    }\n",
       "</style>\n",
       "<table border=\"1\" class=\"dataframe\">\n",
       "  <thead>\n",
       "    <tr style=\"text-align: right;\">\n",
       "      <th></th>\n",
       "      <th>sha</th>\n",
       "      <th>node_id</th>\n",
       "      <th>commit</th>\n",
       "      <th>url</th>\n",
       "      <th>html_url</th>\n",
       "      <th>comments_url</th>\n",
       "      <th>author</th>\n",
       "      <th>committer</th>\n",
       "      <th>parents</th>\n",
       "    </tr>\n",
       "  </thead>\n",
       "  <tbody>\n",
       "    <tr>\n",
       "      <th>0</th>\n",
       "      <td>6a243303cfd846faac16417cad54cd40ab3f82c6</td>\n",
       "      <td>MDY6Q29tbWl0MjAzMTMyMjg2OjZhMjQzMzAzY2ZkODQ2Zm...</td>\n",
       "      <td>{'author': {'name': 'Carlos Madriz', 'email': ...</td>\n",
       "      <td>https://api.github.com/repos/ta-data-lis/lab-m...</td>\n",
       "      <td>https://github.com/ta-data-lis/lab-mysql-first...</td>\n",
       "      <td>https://api.github.com/repos/ta-data-lis/lab-m...</td>\n",
       "      <td>{'login': 'carlosmd14', 'id': 45972288, 'node_...</td>\n",
       "      <td>{'login': 'web-flow', 'id': 19864447, 'node_id...</td>\n",
       "      <td>[{'sha': 'ee6d046595a26c76425df9fffdb6ed6737c7...</td>\n",
       "    </tr>\n",
       "    <tr>\n",
       "      <th>1</th>\n",
       "      <td>ee6d046595a26c76425df9fffdb6ed6737c7c06b</td>\n",
       "      <td>MDY6Q29tbWl0MjAzMTMyMjg2OmVlNmQwNDY1OTVhMjZjNz...</td>\n",
       "      <td>{'author': {'name': 'Carlos Madriz', 'email': ...</td>\n",
       "      <td>https://api.github.com/repos/ta-data-lis/lab-m...</td>\n",
       "      <td>https://github.com/ta-data-lis/lab-mysql-first...</td>\n",
       "      <td>https://api.github.com/repos/ta-data-lis/lab-m...</td>\n",
       "      <td>{'login': 'carlosmd14', 'id': 45972288, 'node_...</td>\n",
       "      <td>{'login': 'web-flow', 'id': 19864447, 'node_id...</td>\n",
       "      <td>[{'sha': '381994f755b6b95ffc4fe512f36e2640bd04...</td>\n",
       "    </tr>\n",
       "    <tr>\n",
       "      <th>2</th>\n",
       "      <td>381994f755b6b95ffc4fe512f36e2640bd04034f</td>\n",
       "      <td>MDY6Q29tbWl0MjAzMTMyMjg2OjM4MTk5NGY3NTViNmI5NW...</td>\n",
       "      <td>{'author': {'name': 'Carlos Madriz', 'email': ...</td>\n",
       "      <td>https://api.github.com/repos/ta-data-lis/lab-m...</td>\n",
       "      <td>https://github.com/ta-data-lis/lab-mysql-first...</td>\n",
       "      <td>https://api.github.com/repos/ta-data-lis/lab-m...</td>\n",
       "      <td>{'login': 'carlosmd14', 'id': 45972288, 'node_...</td>\n",
       "      <td>{'login': 'web-flow', 'id': 19864447, 'node_id...</td>\n",
       "      <td>[{'sha': '2e9b232b72bec7218cd77f171098a7391d89...</td>\n",
       "    </tr>\n",
       "    <tr>\n",
       "      <th>3</th>\n",
       "      <td>2e9b232b72bec7218cd77f171098a7391d89ba8c</td>\n",
       "      <td>MDY6Q29tbWl0MjAzMTMyMjg2OjJlOWIyMzJiNzJiZWM3Mj...</td>\n",
       "      <td>{'author': {'name': 'Carla Mendes', 'email': '...</td>\n",
       "      <td>https://api.github.com/repos/ta-data-lis/lab-m...</td>\n",
       "      <td>https://github.com/ta-data-lis/lab-mysql-first...</td>\n",
       "      <td>https://api.github.com/repos/ta-data-lis/lab-m...</td>\n",
       "      <td>{'login': 'carlarsmendes', 'id': 38359702, 'no...</td>\n",
       "      <td>{'login': 'carlarsmendes', 'id': 38359702, 'no...</td>\n",
       "      <td>[]</td>\n",
       "    </tr>\n",
       "  </tbody>\n",
       "</table>\n",
       "</div>"
      ],
      "text/plain": [
       "                                        sha  \\\n",
       "0  6a243303cfd846faac16417cad54cd40ab3f82c6   \n",
       "1  ee6d046595a26c76425df9fffdb6ed6737c7c06b   \n",
       "2  381994f755b6b95ffc4fe512f36e2640bd04034f   \n",
       "3  2e9b232b72bec7218cd77f171098a7391d89ba8c   \n",
       "\n",
       "                                             node_id  \\\n",
       "0  MDY6Q29tbWl0MjAzMTMyMjg2OjZhMjQzMzAzY2ZkODQ2Zm...   \n",
       "1  MDY6Q29tbWl0MjAzMTMyMjg2OmVlNmQwNDY1OTVhMjZjNz...   \n",
       "2  MDY6Q29tbWl0MjAzMTMyMjg2OjM4MTk5NGY3NTViNmI5NW...   \n",
       "3  MDY6Q29tbWl0MjAzMTMyMjg2OjJlOWIyMzJiNzJiZWM3Mj...   \n",
       "\n",
       "                                              commit  \\\n",
       "0  {'author': {'name': 'Carlos Madriz', 'email': ...   \n",
       "1  {'author': {'name': 'Carlos Madriz', 'email': ...   \n",
       "2  {'author': {'name': 'Carlos Madriz', 'email': ...   \n",
       "3  {'author': {'name': 'Carla Mendes', 'email': '...   \n",
       "\n",
       "                                                 url  \\\n",
       "0  https://api.github.com/repos/ta-data-lis/lab-m...   \n",
       "1  https://api.github.com/repos/ta-data-lis/lab-m...   \n",
       "2  https://api.github.com/repos/ta-data-lis/lab-m...   \n",
       "3  https://api.github.com/repos/ta-data-lis/lab-m...   \n",
       "\n",
       "                                            html_url  \\\n",
       "0  https://github.com/ta-data-lis/lab-mysql-first...   \n",
       "1  https://github.com/ta-data-lis/lab-mysql-first...   \n",
       "2  https://github.com/ta-data-lis/lab-mysql-first...   \n",
       "3  https://github.com/ta-data-lis/lab-mysql-first...   \n",
       "\n",
       "                                        comments_url  \\\n",
       "0  https://api.github.com/repos/ta-data-lis/lab-m...   \n",
       "1  https://api.github.com/repos/ta-data-lis/lab-m...   \n",
       "2  https://api.github.com/repos/ta-data-lis/lab-m...   \n",
       "3  https://api.github.com/repos/ta-data-lis/lab-m...   \n",
       "\n",
       "                                              author  \\\n",
       "0  {'login': 'carlosmd14', 'id': 45972288, 'node_...   \n",
       "1  {'login': 'carlosmd14', 'id': 45972288, 'node_...   \n",
       "2  {'login': 'carlosmd14', 'id': 45972288, 'node_...   \n",
       "3  {'login': 'carlarsmendes', 'id': 38359702, 'no...   \n",
       "\n",
       "                                           committer  \\\n",
       "0  {'login': 'web-flow', 'id': 19864447, 'node_id...   \n",
       "1  {'login': 'web-flow', 'id': 19864447, 'node_id...   \n",
       "2  {'login': 'web-flow', 'id': 19864447, 'node_id...   \n",
       "3  {'login': 'carlarsmendes', 'id': 38359702, 'no...   \n",
       "\n",
       "                                             parents  \n",
       "0  [{'sha': 'ee6d046595a26c76425df9fffdb6ed6737c7...  \n",
       "1  [{'sha': '381994f755b6b95ffc4fe512f36e2640bd04...  \n",
       "2  [{'sha': '2e9b232b72bec7218cd77f171098a7391d89...  \n",
       "3                                                 []  "
      ]
     },
     "execution_count": 19,
     "metadata": {},
     "output_type": "execute_result"
    }
   ],
   "source": [
    "### Importing from an repo page hence /repos/.\n",
    "response = requests.get('https://api.github.com/repos/ta-data-lis/lab-mysql-first-queries/commits')\n",
    "data = pd.DataFrame(response.json())\n",
    "# Finding the date.\n",
    "data.head(10)\n",
    "# Given that commit has a lot of different elements that can be flattened I suspect it is there."
   ]
  },
  {
   "cell_type": "code",
   "execution_count": 20,
   "metadata": {},
   "outputs": [],
   "source": [
    "def flatten(data, col_list):\n",
    "    for column in col_list:\n",
    "        flattened = pd.DataFrame(dict(data[column])).transpose()\n",
    "        columns = [str(col) for col in flattened.columns]\n",
    "        flattened.columns = [column + '_' + colname for colname in columns]\n",
    "        data = pd.concat([data, flattened], axis=1)\n",
    "        data = data.drop(column, axis=1)\n",
    "    return data"
   ]
  },
  {
   "cell_type": "code",
   "execution_count": 21,
   "metadata": {},
   "outputs": [],
   "source": [
    "# And it is...\n",
    "data = flatten(data,['commit'])\n",
    "# But needs to be flattened again...\n",
    "data = flatten(data,['commit_committer'])\n",
    "# we got... commit_committer_date"
   ]
  },
  {
   "cell_type": "code",
   "execution_count": 22,
   "metadata": {},
   "outputs": [],
   "source": [
    "# Making some helpful functions\n",
    "def dealing_with_dates(my_list):\n",
    "    my_output_list = []\n",
    "    for i in my_list:\n",
    "        my_output_list.append(datetime.strptime(i, \"%Y-%m-%dT%H:%M:%SZ\"))\n",
    "    return my_output_list\n",
    "\n",
    "def days_hours_minutes(td):\n",
    "    return td.days, td.seconds//3600, (td.seconds//60)%60"
   ]
  },
  {
   "cell_type": "code",
   "execution_count": 23,
   "metadata": {},
   "outputs": [
    {
     "data": {
      "text/plain": [
       "0"
      ]
     },
     "execution_count": 23,
     "metadata": {},
     "output_type": "execute_result"
    }
   ],
   "source": [
    "# counting.\n",
    "dates = list(data['commit_committer_date'])\n",
    "dates_as_date = dealing_with_dates(dates)\n",
    "\n",
    "my_now = datetime.now().strftime(\"%Y-%m-%dT%H:%M:%SZ\")\n",
    "my_now = datetime.strptime(my_now, \"%Y-%m-%dT%H:%M:%SZ\")\n",
    "\n",
    "dates_timesdeltas_tonow = [my_now - date for date in dates_as_date]\n",
    "dayspassed = [timedelta.days for timedelta in dates_timesdeltas_tonow]\n",
    "count_if_less_two_weeks = sum(myday < 14 for myday in dayspassed)\n",
    "count_if_less_two_weeks"
   ]
  }
 ],
 "metadata": {
  "kernelspec": {
   "display_name": "Python 3",
   "language": "python",
   "name": "python3"
  },
  "language_info": {
   "codemirror_mode": {
    "name": "ipython",
    "version": 3
   },
   "file_extension": ".py",
   "mimetype": "text/x-python",
   "name": "python",
   "nbconvert_exporter": "python",
   "pygments_lexer": "ipython3",
   "version": "3.8.2"
  }
 },
 "nbformat": 4,
 "nbformat_minor": 4
}
